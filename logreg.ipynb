{
 "metadata": {
  "language_info": {
   "codemirror_mode": {
    "name": "ipython",
    "version": 3
   },
   "file_extension": ".py",
   "mimetype": "text/x-python",
   "name": "python",
   "nbconvert_exporter": "python",
   "pygments_lexer": "ipython3",
   "version": 3
  },
  "orig_nbformat": 2
 },
 "nbformat": 4,
 "nbformat_minor": 2,
 "cells": [
  {
   "cell_type": "code",
   "execution_count": null,
   "metadata": {},
   "outputs": [],
   "source": [
    "import numpy as np\n",
    "from sklearn.linear_model import LogisticRegression\n",
    "\n",
    "def partial_derivative(expression, variable):\n",
    "    \"\"\"Takes an expression, variable, returns partial derivative of expression\n",
    "    with respect to variable\"\"\"\n",
    "    \n",
    "\n",
    "class LogRegScratch():\n",
    "    def __init__(self):\n",
    "        pass\n",
    "    def fit(self, X, y):\n",
    "        # add an intercept column to X\n",
    "        X_with_intercept = np.c_[np.ones((X.shape[0],1)), X]\n",
    "        # make this accessible after fitting\n",
    "        self.X_intercept = X_with_intercept\n",
    "\n"
   ]
  }
 ]
}